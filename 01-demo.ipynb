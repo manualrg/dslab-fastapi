{
 "cells": [
  {
   "cell_type": "markdown",
   "id": "7dbab79f",
   "metadata": {},
   "source": [
    "# FastAPI: Building our application backend\n",
    "\n",
    "FastAPI is a modern Python backend framework for building APIs quickly. It’s:\n",
    "\n",
    "* Fast (based on Starlette + Pydantic).\n",
    "* Easy to use (less boilerplate, type hints).\n",
    "* Async-ready (works with async/await)."
   ]
  },
  {
   "cell_type": "markdown",
   "id": "22f97d28",
   "metadata": {},
   "source": [
    "# CRUD Operations\n",
    "\n",
    "## (R) GET Endpoint\n",
    "\n",
    "Simple requests (Reading) operations\n",
    "```python\n",
    "@app.get(\"/items/{item_id}\")\n",
    "def read_item(item_id: int, q: str | None = None):\n",
    "    return {\"item_id\": item_id, \"q\": q}\n",
    "```\n",
    "\n",
    "USe requestes.get() to run the call \n",
    "```python\n",
    "BASE = \"http://127.0.0.1:8000/\"   # Your API URL\n",
    "resp = requests.get(BASE + \"items/1\")\n",
    "```\n",
    "\n",
    "## (C) POST Endpoint\n",
    "Add new data to the application\n",
    "\n",
    "```python\n",
    "from pydantic import BaseModel\n",
    "...\n",
    "class Item(BaseModel):\n",
    "    name: str\n",
    "    description: Optional[str] = None\n",
    "    price: float\n",
    "...\n",
    "@app.post(\"/items/\")\n",
    "def create_item(item: Item):\n",
    "```\n",
    "\n",
    "Use requests.post to run the call\n",
    "```python\n",
    "    new_item_data = {\n",
    "        \"name\": \"Widget\",\n",
    "        \"description\": \"A shiny, new widget.\",\n",
    "        \"price\": 19.99\n",
    "    }\n",
    "    response = requests.post(f\"{BASE_URL}/items/\", json=new_item_data)\n",
    "    print(f\"Status Code: {response.status_code}\")\n",
    "```\n",
    "\n",
    "## (U) PUT Endpoint\n",
    "\n",
    "```python\n",
    "\n",
    "@app.put(\"/items/{item_id}\")\n",
    "def update_item(item_id: int, updated_item: Item):\n",
    "```\n",
    "\n",
    "Use requests.put to run the call\n",
    "\n",
    "```python\n",
    "updated_item_data = {\n",
    "        \"name\": \"Super Widget\",\n",
    "        \"description\": \"An updated, super shiny widget!\",\n",
    "        \"price\": 24.99\n",
    "    }\n",
    "    response = requests.put(f\"{BASE_URL}/items/{item_id}\", json=updated_item_data)\n",
    "```\n",
    "\n",
    "## (D) DELETE Endpoint\n",
    "\n",
    "```python \n",
    "@app.delete(\"/items/{item_id}\")\n",
    "def delete_item(item_id: int):\n",
    "```\n",
    "\n",
    "use requests.delete to run the call\n",
    "\n",
    "```python\n",
    "response = requests.delete(f\"{BASE_URL}/items/{item_id}\")\n",
    "```\n"
   ]
  },
  {
   "cell_type": "markdown",
   "id": "d162a92b",
   "metadata": {},
   "source": [
    "# Project structure\n",
    "\n",
    "\n",
    "```\n",
    "app/\n",
    " ├── main.py        # Entry point\n",
    " ├── database.py    # Database connection\n",
    " ├── models.py      # SQLAlchemy models\n",
    " ├── schemas.py     # Pydantic schemas\n",
    " ├── routes/       # Routers (modular API endpoints)\n",
    " │     ├── items.py\n",
    " │     └── users.py\n",
    " \n",
    "```\n",
    "In addtion, keep your local secrets in a `.env` file and create a `.venv` virtual environment\n",
    "\n",
    "main.py\n",
    "* Intializes the app\n",
    "* Connects to underlying infrastructure (auth to DBs, LLMs, so on)\n",
    "* In small apps, endpoints are defined directly in main.py. iI large apps, `routes` are created\n",
    "\n",
    "routes/  \n",
    "Contains modular endpoints. Each file is a route\n",
    "\n",
    "database.py  \n",
    "Instanciates a SQLAlchemy engine and session  \n",
    "In this example, an in memory SQLite DB is used, but usually a remote one is used\n",
    "\n",
    "\n",
    "schemas.py  \n",
    "Pydantic dataclasses to define every entity (users, items, etc.) with a types\n",
    "\n",
    "models.py  \n",
    "Database tables definitions to run queries with SQLAlchemy\n",
    "\n",
    "\n",
    "## Simplified FastAPI Project\n",
    "\n",
    "```\n",
    "app/\n",
    " ├── main.py        # Entry point\n",
    " ├── database.py    # Database connection\n",
    " ├── models.py      # SQLAlchemy models\n",
    " ├── schemas.py     # Pydantic schemas\n",
    "```\n",
    "\n",
    "## Other usefull folders:\n",
    "conf.py\n",
    "```python\n",
    "from pydantic import BaseSettings\n",
    "from functools import lru_cache\n",
    "\n",
    "# The BaseSettings class automatically loads environment variables\n",
    "# that match the field names. For example, 'DATABASE_URL' will be\n",
    "# loaded from the 'DATABASE_URL' environment variable.\n",
    "class Settings(BaseSettings):\n",
    "    \"\"\"\n",
    "    Application settings class.\n",
    "\n",
    "    This class uses Pydantic to manage settings and load them from\n",
    "    environment variables.\n",
    "    \"\"\"\n",
    "    # Database configuration\n",
    "    DATABASE_URL: str = \"sqlite:///./sql_app.db\"\n",
    "\n",
    "    # You can add a description for each field, which is great for documentation\n",
    "    # For example, if you add a different field\n",
    "    # API_V1_STR: str = \"/api/v1\"\n",
    "\n",
    "\n",
    "# Using lru_cache to ensure that the settings object is only created once\n",
    "# This is a common pattern to avoid multiple instantiations of the class\n",
    "# and to improve performance.\n",
    "@lru_cache()\n",
    "def get_settings():\n",
    "    \"\"\"\n",
    "    Get and cache the application settings.\n",
    "    \n",
    "    This function returns a single instance of the Settings object.\n",
    "    \"\"\"\n",
    "    return Settings()\n",
    "\n",
    "# Instantiate the settings object\n",
    "settings = get_settings()\n",
    "```\n",
    "\n",
    "\n",
    "test_main.py\n",
    "```python\n",
    "from fastapi.testclient import TestClient\n",
    "\n",
    "from .main import app\n",
    "\n",
    "client = TestClient(app)\n",
    "\n",
    "\n",
    "def test_read_main():\n",
    "    response = client.get(\"/\")\n",
    "    assert response.status_code == 200\n",
    "    assert response.json() == {\"msg\": \"Hello World\"}\n",
    "```"
   ]
  },
  {
   "cell_type": "markdown",
   "id": "b22f377f",
   "metadata": {},
   "source": [
    "# Data Validation\n",
    "\n",
    "Pydantic dataclasses have built-in functionallities to validate input data.\n",
    "In addition, data is also typed in endpoint functions. This is useful to avoid errors and to **roperly document** the API.\n"
   ]
  },
  {
   "cell_type": "markdown",
   "id": "4828863a",
   "metadata": {},
   "source": [
    "# Dependency injection\n",
    "\n",
    "If we need a resource defined outside the function wrapped in the endpoint, we can use dependency injection. For example, if we need a database connection, we can use the following code:\n",
    "```python\n",
    "@router.get(\"/\", response_model=List[schemas.User])\n",
    "def get_users(db: Session = Depends(get_db)):\n",
    "    return db.query(models.User).all()\n",
    "```\n",
    "\n",
    "\n",
    "**Dependency Injection (DI)** is a software design pattern where an object receives its required \"dependencies\" (other objects or services) from an external source rather than creating them itself\n",
    "* Objects (clients, resources, etc.) are instanciated only once\n",
    "* We can maintain the endpoint and change the resource (change environment, mock up)"
   ]
  },
  {
   "cell_type": "markdown",
   "id": "2dc8fb13",
   "metadata": {},
   "source": [
    "# Run the app\n",
    "\n",
    "```bash\n",
    ".venv/Scripts/activate\n",
    "uvicorn main:app --reload\n",
    "```\n"
   ]
  },
  {
   "cell_type": "code",
   "execution_count": 1,
   "id": "377b63d4",
   "metadata": {},
   "outputs": [],
   "source": [
    "%load_ext autoreload\n",
    "%autoreload 2"
   ]
  },
  {
   "cell_type": "code",
   "execution_count": 2,
   "id": "acdc4ba4",
   "metadata": {},
   "outputs": [
    {
     "name": "stdout",
     "output_type": "stream",
     "text": [
      "Create: {'name': 'Bob', 'email': 'bob@example.com', 'id': 1}\n"
     ]
    }
   ],
   "source": [
    "import requests\n",
    "\n",
    "BASE = \"http://127.0.0.1:8000/users\"\n",
    "\n",
    "# Create a user\n",
    "resp = requests.post(BASE + \"/\", json={\"name\": \"Bob\", \"email\": \"bob@example.com\"})\n",
    "print(\"Create:\", resp.json())"
   ]
  },
  {
   "cell_type": "code",
   "execution_count": 3,
   "id": "67b05726",
   "metadata": {},
   "outputs": [
    {
     "name": "stdout",
     "output_type": "stream",
     "text": [
      "Create: {'detail': [{'type': 'value_error', 'loc': ['body', 'email'], 'msg': 'value is not a valid email address: There must be something before the @-sign.', 'input': '@bobpot', 'ctx': {'reason': 'There must be something before the @-sign.'}}]}\n"
     ]
    }
   ],
   "source": [
    "# Create a user, validate email\n",
    "resp = requests.post(BASE + \"/\", json={\"name\": \"Bob\", \"email\": \"@bobpot\"})\n",
    "print(\"Create:\", resp.json())"
   ]
  },
  {
   "cell_type": "code",
   "execution_count": 4,
   "id": "7751a7cb",
   "metadata": {},
   "outputs": [
    {
     "name": "stdout",
     "output_type": "stream",
     "text": [
      "Get by ID: [{'name': 'Bob', 'email': 'bob@example.com', 'id': 1}]\n"
     ]
    }
   ],
   "source": [
    "# Get all users \n",
    "resp = requests.get(BASE + \"/\")\n",
    "print(\"Get by ID:\", resp.json())"
   ]
  },
  {
   "cell_type": "code",
   "execution_count": 5,
   "id": "089075fd",
   "metadata": {},
   "outputs": [
    {
     "name": "stdout",
     "output_type": "stream",
     "text": [
      "Get by ID: {'name': 'Bob', 'email': 'bob@example.com', 'id': 1}\n"
     ]
    }
   ],
   "source": [
    "# Get user by ID (with error handling example)\n",
    "resp = requests.get(BASE + \"/1\")\n",
    "print(\"Get by ID:\", resp.json())"
   ]
  },
  {
   "cell_type": "code",
   "execution_count": 6,
   "id": "e9025cd9",
   "metadata": {},
   "outputs": [
    {
     "name": "stdout",
     "output_type": "stream",
     "text": [
      "Update: {'name': 'Bobby', 'email': 'bobby@example.com', 'id': 1}\n"
     ]
    }
   ],
   "source": [
    "# Update user\n",
    "resp = requests.put(BASE + \"/1\", json={\"name\": \"Bobby\", \"email\": \"bobby@example.com\"})\n",
    "print(\"Update:\", resp.json())\n"
   ]
  },
  {
   "cell_type": "code",
   "execution_count": 7,
   "id": "6d41b1c1",
   "metadata": {},
   "outputs": [
    {
     "data": {
      "text/plain": [
       "200"
      ]
     },
     "execution_count": 7,
     "metadata": {},
     "output_type": "execute_result"
    }
   ],
   "source": [
    "resp.status_code"
   ]
  },
  {
   "cell_type": "code",
   "execution_count": 8,
   "id": "77621caa",
   "metadata": {},
   "outputs": [
    {
     "data": {
      "text/plain": [
       "'{\"name\":\"Bobby\",\"email\":\"bobby@example.com\",\"id\":1}'"
      ]
     },
     "execution_count": 8,
     "metadata": {},
     "output_type": "execute_result"
    }
   ],
   "source": [
    "resp.text"
   ]
  },
  {
   "cell_type": "code",
   "execution_count": 9,
   "id": "0584ce2f",
   "metadata": {},
   "outputs": [
    {
     "name": "stdout",
     "output_type": "stream",
     "text": [
      "Delete status: 204\n"
     ]
    }
   ],
   "source": [
    "# Delete user\n",
    "resp = requests.delete(BASE + \"/1\")\n",
    "print(\"Delete status:\", resp.status_code)"
   ]
  },
  {
   "cell_type": "code",
   "execution_count": 10,
   "id": "bd5a6879",
   "metadata": {},
   "outputs": [
    {
     "name": "stdout",
     "output_type": "stream",
     "text": [
      "Fetch deleted user: 404 {'detail': 'User with id 1 not found'}\n"
     ]
    }
   ],
   "source": [
    "# Try to fetch deleted user (should 404)\n",
    "resp = requests.get(BASE + \"/1\")\n",
    "print(\"Fetch deleted user:\", resp.status_code, resp.json())\n"
   ]
  },
  {
   "cell_type": "markdown",
   "id": "f89a354c",
   "metadata": {},
   "source": [
    "# Uses cases in AI\n",
    "\n",
    "* ML Scoring\n",
    "* IA Gen apps\n",
    "\n",
    "\n",
    "```python\n",
    "\n",
    "try:\n",
    "    model = joblib.load(\"dummy_model.pkl\")\n",
    "except FileNotFoundError:\n",
    "    raise\n",
    "\n",
    "# Define a Pydantic model for the input data.\n",
    "# This ensures that the incoming request has the correct data types.\n",
    "class PredictInput(BaseModel):\n",
    "    feature_1: float\n",
    "    feature_2: float\n",
    "\n",
    "# The scoring endpoint. It expects a POST request with JSON data.\n",
    "@app.post(\"/predict/\")\n",
    "def predict(data: PredictInput):\n",
    "    \"\"\"\n",
    "    Takes input features, makes a prediction using the loaded model,\n",
    "    and returns the predicted value.\n",
    "    \"\"\"\n",
    "    # Convert the input data to a numpy array, as expected by scikit-learn models.\n",
    "    features = np.array([[data.feature_1, data.feature_2]])\n",
    "\n",
    "    # Make a prediction.\n",
    "    prediction = model.predict(features)\n",
    "\n",
    "    # Return the prediction. We convert it to a float to ensure it's JSON serializable.\n",
    "    return {\"prediction\": float(prediction[0])}\n",
    "\n",
    "```"
   ]
  },
  {
   "cell_type": "code",
   "execution_count": null,
   "id": "c63ab285",
   "metadata": {},
   "outputs": [],
   "source": []
  }
 ],
 "metadata": {
  "kernelspec": {
   "display_name": "dslab-fastapi",
   "language": "python",
   "name": "python3"
  },
  "language_info": {
   "codemirror_mode": {
    "name": "ipython",
    "version": 3
   },
   "file_extension": ".py",
   "mimetype": "text/x-python",
   "name": "python",
   "nbconvert_exporter": "python",
   "pygments_lexer": "ipython3",
   "version": "3.10.18"
  }
 },
 "nbformat": 4,
 "nbformat_minor": 5
}
